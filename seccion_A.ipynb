{
 "cells": [
  {
   "cell_type": "markdown",
   "metadata": {},
   "source": [
    "#Examen OPI Anlytics"
   ]
  },
  {
   "cell_type": "code",
   "execution_count": 193,
   "metadata": {},
   "outputs": [],
   "source": [
    "# 1. ¿Qué pruebas identiﬁcarías para asegurar la calidad de estos datos? No es necesario hacerlas, sólo describe la prueba y lo que te dice cada una."
   ]
  },
  {
   "cell_type": "code",
   "execution_count": 194,
   "metadata": {},
   "outputs": [],
   "source": [
    "## En primer lugar obsevar la tabla para darnos una idea de la información con la cual contamos\n",
    "## 1. Identificar datos faltanes\n",
    "## 2. Identificar el tipo de datos \n",
    "## 3. Identificar si alguna de las variables tiene información errónea, supongamos que en año se encuentran otros caracteres que no corresponden al año\n",
    "## 4. Realizar un resumen estadístico de los datos"
   ]
  },
  {
   "cell_type": "code",
   "execution_count": 192,
   "metadata": {},
   "outputs": [],
   "source": [
    "import pandas as pd\n",
    "import numpy as np\n",
    "import matplotlib.pyplot as plt\n",
    "import re\n",
    "import seaborn as sns"
   ]
  },
  {
   "cell_type": "markdown",
   "metadata": {},
   "source": [
    "df = pd.read_csv(\"E:/Eli/opi/carpetas_completa_junio_2021.csv\")"
   ]
  },
  {
   "cell_type": "code",
   "execution_count": 48,
   "metadata": {},
   "outputs": [
    {
     "name": "stdout",
     "output_type": "stream",
     "text": [
      "(1248924, 19)\n"
     ]
    }
   ],
   "source": [
    "# Observamos cuántas observaciones y variables tenemos en la base de datos\n",
    "print(df.shape)"
   ]
  },
  {
   "cell_type": "code",
   "execution_count": 49,
   "metadata": {},
   "outputs": [
    {
     "name": "stdout",
     "output_type": "stream",
     "text": [
      "         ao_hechos mes_hechos         fecha_hechos  ao_inicio mes_inicio  \\\n",
      "0           2016.0      Enero  2016-01-31 22:16:00       2016    Febrero   \n",
      "1           2016.0      Enero  2016-01-31 20:50:00       2016    Febrero   \n",
      "2           2016.0    Febrero  2016-02-01 00:30:00       2016    Febrero   \n",
      "3           2016.0      Enero  2016-01-31 22:00:00       2016    Febrero   \n",
      "4           2015.0  Diciembre  2015-12-25 12:00:00       2016    Febrero   \n",
      "...            ...        ...                  ...        ...        ...   \n",
      "1248919     2021.0      Junio  2021-06-29 17:00:00       2021      Junio   \n",
      "1248920     2021.0      Junio  2021-06-04 19:00:00       2021      Junio   \n",
      "1248921     2021.0      Junio  2021-06-30 19:40:00       2021      Junio   \n",
      "1248922     2021.0       Mayo  2021-05-16 21:08:00       2021      Junio   \n",
      "1248923     2021.0      Junio  2021-06-29 17:00:00       2021      Junio   \n",
      "\n",
      "                fecha_inicio  \\\n",
      "0        2016-02-01 00:25:44   \n",
      "1        2016-02-01 00:52:37   \n",
      "2        2016-02-01 01:33:26   \n",
      "3        2016-02-01 02:09:11   \n",
      "4        2016-02-01 02:16:49   \n",
      "...                      ...   \n",
      "1248919  2021-06-30 23:32:31   \n",
      "1248920  2021-06-30 23:36:45   \n",
      "1248921  2021-06-30 23:37:12   \n",
      "1248922  2021-06-30 23:45:57   \n",
      "1248923  2021-06-30 23:52:34   \n",
      "\n",
      "                                                    delito  \\\n",
      "0                      DAÑO EN PROPIEDAD AJENA INTENCIONAL   \n",
      "1        ROBO DE VEHICULO DE SERVICIO PARTICULAR CON VI...   \n",
      "2                             NARCOMENUDEO POSESION SIMPLE   \n",
      "3           ROBO A TRANSEUNTE EN VIA PUBLICA CON VIOLENCIA   \n",
      "4                                       DENUNCIA DE HECHOS   \n",
      "...                                                    ...   \n",
      "1248919  LESIONES CULPOSAS POR TRANSITO VEHICULAR EN CO...   \n",
      "1248920                         ROBO DE ACCESORIOS DE AUTO   \n",
      "1248921                                           AMENAZAS   \n",
      "1248922                DAÑO EN PROPIEDAD AJENA INTENCIONAL   \n",
      "1248923             LESIONES INTENCIONALES POR ARMA BLANCA   \n",
      "\n",
      "                                                  fiscalia    agencia  \\\n",
      "0                           INVESTIGACIÓN EN BENITO JUÁREZ       BJ-2   \n",
      "1        INVESTIGACIÓN PARA LA ATENCIÓN DEL DELITO DE R...  ORIENTEII   \n",
      "2        INVESTIGACIÓN PARA LA ATENCIÓN DE NIÑOS, NIÑAS...         57   \n",
      "3                              INVESTIGACIÓN EN IZTAPALAPA      IZP-6   \n",
      "4                           INVESTIGACIÓN EN BENITO JUÁREZ       BJ-1   \n",
      "...                                                    ...        ...   \n",
      "1248919  FISCALÍA DE INVESTIGACIÓN TERRITORIAL EN MILPA...      MIL-2   \n",
      "1248920  FISCALÍA DE INVESTIGACIÓN TERRITORIAL EN CUAUH...      CUH-7   \n",
      "1248921  FISCALÍA DE INVESTIGACIÓN TERRITORIAL EN IZTAC...      IZC-2   \n",
      "1248922  FISCALÍA DE INVESTIGACIÓN TERRITORIAL EN CUAUH...      CUH-7   \n",
      "1248923  FISCALÍA DE INVESTIGACIÓN TERRITORIAL EN IZTAP...      IZP-8   \n",
      "\n",
      "        unidad_investigacion  \\\n",
      "0                     UI-3CD   \n",
      "1                     UI-3CD   \n",
      "2                     UI-3CD   \n",
      "3                     UI-3CD   \n",
      "4                     UI-3SD   \n",
      "...                      ...   \n",
      "1248919               UI-3SD   \n",
      "1248920               UI-3SD   \n",
      "1248921               UI-3SD   \n",
      "1248922               UI-3SD   \n",
      "1248923               UI-3CD   \n",
      "\n",
      "                                          categoria_delito      calle_hechos  \\\n",
      "0                                   DELITO DE BAJO IMPACTO  CALZ. DE TLALPAN   \n",
      "1                     ROBO DE VEHÍCULO CON Y SIN VIOLENCIA          SUR 25 A   \n",
      "2                                   DELITO DE BAJO IMPACTO  BATALLONES ROJOS   \n",
      "3        ROBO A TRANSEUNTE EN VÍA PÚBLICA CON Y SIN VIO...           GERANIO   \n",
      "4                                       HECHO NO DELICTIVO     SAN FRANCISCO   \n",
      "...                                                    ...               ...   \n",
      "1248919                             DELITO DE BAJO IMPACTO          OAXTEPEC   \n",
      "1248920                             DELITO DE BAJO IMPACTO    AVENIDA MEXICO   \n",
      "1248921                             DELITO DE BAJO IMPACTO            CUATRO   \n",
      "1248922                             DELITO DE BAJO IMPACTO    ALVARO OBREGON   \n",
      "1248923                             DELITO DE BAJO IMPACTO     REFORMA # 100   \n",
      "\n",
      "                     calle_hechos2                     colonia_hechos  \\\n",
      "0                        LAGO PTE.                    AMÉRICAS UNIDAS   \n",
      "1                        GRANJEROS                       LOS CIPRESES   \n",
      "2                              NaN            UNIDAD VICENTE GUERRERO   \n",
      "3                       GAVILLEROS                    EMILIANO ZAPATA   \n",
      "4        AVENIDA COLONIA DEL VALLE                   DEL VALLE CENTRO   \n",
      "...                            ...                                ...   \n",
      "1248919                        NaN  SAN MARCOS (SANTA ANA TLACOTENCO)   \n",
      "1248920                TEOTIHUACAN                          HIPÓDROMO   \n",
      "1248921                        NaN                 AGRÍCOLA PANTITLAN   \n",
      "1248922                        NaN                         ROMA NORTE   \n",
      "1248923                        NaN               LOMAS DE SAN LORENZO   \n",
      "\n",
      "        alcaldia_hechos  competencia   longitud    latitud  tempo  \n",
      "0         BENITO JUAREZ          NaN -99.140215  19.380315    NaN  \n",
      "1            IZTAPALAPA          NaN -99.108403  19.352859    NaN  \n",
      "2            IZTAPALAPA          NaN -99.061321  19.356451    NaN  \n",
      "3            IZTAPALAPA          NaN -98.976379  19.331633    NaN  \n",
      "4         BENITO JUAREZ          NaN -99.172189  19.387114    NaN  \n",
      "...                 ...          ...        ...        ...    ...  \n",
      "1248919      MILPA ALTA  FUERO COMUN -98.992460  19.168371    NaN  \n",
      "1248920      CUAUHTEMOC  FUERO COMUN -99.168311  19.412001    NaN  \n",
      "1248921       IZTACALCO  FUERO COMUN -99.061716  19.419028    NaN  \n",
      "1248922      CUAUHTEMOC  FUERO COMUN -99.158994  19.418615    NaN  \n",
      "1248923      IZTAPALAPA  FUERO COMUN -99.069557  19.321406    NaN  \n",
      "\n",
      "[1248924 rows x 19 columns]\n"
     ]
    }
   ],
   "source": [
    "# Observamos las variables incluidas en el DataFrame, en la que podemos ver que por ejemplo la variable tempo no contiene\n",
    "# información. Por lo que podríamos prescindir de la variable tempo.\n",
    "print(df)"
   ]
  },
  {
   "cell_type": "code",
   "execution_count": 50,
   "metadata": {},
   "outputs": [
    {
     "name": "stdout",
     "output_type": "stream",
     "text": [
      "         ao_hechos mes_hechos         fecha_hechos  ao_inicio mes_inicio  \\\n",
      "0           2016.0      Enero  2016-01-31 22:16:00       2016    Febrero   \n",
      "1           2016.0      Enero  2016-01-31 20:50:00       2016    Febrero   \n",
      "2           2016.0    Febrero  2016-02-01 00:30:00       2016    Febrero   \n",
      "3           2016.0      Enero  2016-01-31 22:00:00       2016    Febrero   \n",
      "4           2015.0  Diciembre  2015-12-25 12:00:00       2016    Febrero   \n",
      "...            ...        ...                  ...        ...        ...   \n",
      "1248919     2021.0      Junio  2021-06-29 17:00:00       2021      Junio   \n",
      "1248920     2021.0      Junio  2021-06-04 19:00:00       2021      Junio   \n",
      "1248921     2021.0      Junio  2021-06-30 19:40:00       2021      Junio   \n",
      "1248922     2021.0       Mayo  2021-05-16 21:08:00       2021      Junio   \n",
      "1248923     2021.0      Junio  2021-06-29 17:00:00       2021      Junio   \n",
      "\n",
      "                fecha_inicio  \\\n",
      "0        2016-02-01 00:25:44   \n",
      "1        2016-02-01 00:52:37   \n",
      "2        2016-02-01 01:33:26   \n",
      "3        2016-02-01 02:09:11   \n",
      "4        2016-02-01 02:16:49   \n",
      "...                      ...   \n",
      "1248919  2021-06-30 23:32:31   \n",
      "1248920  2021-06-30 23:36:45   \n",
      "1248921  2021-06-30 23:37:12   \n",
      "1248922  2021-06-30 23:45:57   \n",
      "1248923  2021-06-30 23:52:34   \n",
      "\n",
      "                                                    delito  \\\n",
      "0                      DAÑO EN PROPIEDAD AJENA INTENCIONAL   \n",
      "1        ROBO DE VEHICULO DE SERVICIO PARTICULAR CON VI...   \n",
      "2                             NARCOMENUDEO POSESION SIMPLE   \n",
      "3           ROBO A TRANSEUNTE EN VIA PUBLICA CON VIOLENCIA   \n",
      "4                                       DENUNCIA DE HECHOS   \n",
      "...                                                    ...   \n",
      "1248919  LESIONES CULPOSAS POR TRANSITO VEHICULAR EN CO...   \n",
      "1248920                         ROBO DE ACCESORIOS DE AUTO   \n",
      "1248921                                           AMENAZAS   \n",
      "1248922                DAÑO EN PROPIEDAD AJENA INTENCIONAL   \n",
      "1248923             LESIONES INTENCIONALES POR ARMA BLANCA   \n",
      "\n",
      "                                                  fiscalia    agencia  \\\n",
      "0                           INVESTIGACIÓN EN BENITO JUÁREZ       BJ-2   \n",
      "1        INVESTIGACIÓN PARA LA ATENCIÓN DEL DELITO DE R...  ORIENTEII   \n",
      "2        INVESTIGACIÓN PARA LA ATENCIÓN DE NIÑOS, NIÑAS...         57   \n",
      "3                              INVESTIGACIÓN EN IZTAPALAPA      IZP-6   \n",
      "4                           INVESTIGACIÓN EN BENITO JUÁREZ       BJ-1   \n",
      "...                                                    ...        ...   \n",
      "1248919  FISCALÍA DE INVESTIGACIÓN TERRITORIAL EN MILPA...      MIL-2   \n",
      "1248920  FISCALÍA DE INVESTIGACIÓN TERRITORIAL EN CUAUH...      CUH-7   \n",
      "1248921  FISCALÍA DE INVESTIGACIÓN TERRITORIAL EN IZTAC...      IZC-2   \n",
      "1248922  FISCALÍA DE INVESTIGACIÓN TERRITORIAL EN CUAUH...      CUH-7   \n",
      "1248923  FISCALÍA DE INVESTIGACIÓN TERRITORIAL EN IZTAP...      IZP-8   \n",
      "\n",
      "        unidad_investigacion  \\\n",
      "0                     UI-3CD   \n",
      "1                     UI-3CD   \n",
      "2                     UI-3CD   \n",
      "3                     UI-3CD   \n",
      "4                     UI-3SD   \n",
      "...                      ...   \n",
      "1248919               UI-3SD   \n",
      "1248920               UI-3SD   \n",
      "1248921               UI-3SD   \n",
      "1248922               UI-3SD   \n",
      "1248923               UI-3CD   \n",
      "\n",
      "                                          categoria_delito      calle_hechos  \\\n",
      "0                                   DELITO DE BAJO IMPACTO  CALZ. DE TLALPAN   \n",
      "1                     ROBO DE VEHÍCULO CON Y SIN VIOLENCIA          SUR 25 A   \n",
      "2                                   DELITO DE BAJO IMPACTO  BATALLONES ROJOS   \n",
      "3        ROBO A TRANSEUNTE EN VÍA PÚBLICA CON Y SIN VIO...           GERANIO   \n",
      "4                                       HECHO NO DELICTIVO     SAN FRANCISCO   \n",
      "...                                                    ...               ...   \n",
      "1248919                             DELITO DE BAJO IMPACTO          OAXTEPEC   \n",
      "1248920                             DELITO DE BAJO IMPACTO    AVENIDA MEXICO   \n",
      "1248921                             DELITO DE BAJO IMPACTO            CUATRO   \n",
      "1248922                             DELITO DE BAJO IMPACTO    ALVARO OBREGON   \n",
      "1248923                             DELITO DE BAJO IMPACTO     REFORMA # 100   \n",
      "\n",
      "                     calle_hechos2                     colonia_hechos  \\\n",
      "0                        LAGO PTE.                    AMÉRICAS UNIDAS   \n",
      "1                        GRANJEROS                       LOS CIPRESES   \n",
      "2                              NaN            UNIDAD VICENTE GUERRERO   \n",
      "3                       GAVILLEROS                    EMILIANO ZAPATA   \n",
      "4        AVENIDA COLONIA DEL VALLE                   DEL VALLE CENTRO   \n",
      "...                            ...                                ...   \n",
      "1248919                        NaN  SAN MARCOS (SANTA ANA TLACOTENCO)   \n",
      "1248920                TEOTIHUACAN                          HIPÓDROMO   \n",
      "1248921                        NaN                 AGRÍCOLA PANTITLAN   \n",
      "1248922                        NaN                         ROMA NORTE   \n",
      "1248923                        NaN               LOMAS DE SAN LORENZO   \n",
      "\n",
      "        alcaldia_hechos  competencia   longitud    latitud  tempo  \n",
      "0         BENITO JUAREZ          NaN -99.140215  19.380315    NaN  \n",
      "1            IZTAPALAPA          NaN -99.108403  19.352859    NaN  \n",
      "2            IZTAPALAPA          NaN -99.061321  19.356451    NaN  \n",
      "3            IZTAPALAPA          NaN -98.976379  19.331633    NaN  \n",
      "4         BENITO JUAREZ          NaN -99.172189  19.387114    NaN  \n",
      "...                 ...          ...        ...        ...    ...  \n",
      "1248919      MILPA ALTA  FUERO COMUN -98.992460  19.168371    NaN  \n",
      "1248920      CUAUHTEMOC  FUERO COMUN -99.168311  19.412001    NaN  \n",
      "1248921       IZTACALCO  FUERO COMUN -99.061716  19.419028    NaN  \n",
      "1248922      CUAUHTEMOC  FUERO COMUN -99.158994  19.418615    NaN  \n",
      "1248923      IZTAPALAPA  FUERO COMUN -99.069557  19.321406    NaN  \n",
      "\n",
      "[1248924 rows x 19 columns]\n"
     ]
    }
   ],
   "source": [
    "print(df)"
   ]
  },
  {
   "cell_type": "code",
   "execution_count": 51,
   "metadata": {},
   "outputs": [
    {
     "data": {
      "text/plain": [
       "ao_hechos                 0.034830\n",
       "mes_hechos                0.034830\n",
       "fecha_hechos              0.034830\n",
       "ao_inicio                 0.000000\n",
       "mes_inicio                0.000000\n",
       "fecha_inicio              0.000240\n",
       "delito                    0.000000\n",
       "fiscalia                  0.000160\n",
       "agencia                   0.000000\n",
       "unidad_investigacion      0.018176\n",
       "categoria_delito          0.000000\n",
       "calle_hechos              0.249815\n",
       "calle_hechos2            60.986737\n",
       "colonia_hechos            4.104333\n",
       "alcaldia_hechos           0.279280\n",
       "competencia              85.199660\n",
       "longitud                  4.027627\n",
       "latitud                   4.027627\n",
       "tempo                   100.000000\n",
       "dtype: float64"
      ]
     },
     "execution_count": 51,
     "metadata": {},
     "output_type": "execute_result"
    }
   ],
   "source": [
    "#Calculamos el porcentaje de nulos en la base de datos\n",
    "df.isnull().sum()/df.shape[0] *100"
   ]
  },
  {
   "cell_type": "code",
   "execution_count": 52,
   "metadata": {},
   "outputs": [],
   "source": [
    "# tempo no contiene información entonces seleccionamos las variables\n",
    "df=df[['ao_hechos', 'mes_hechos', 'fecha_hechos', 'ao_inicio', 'mes_inicio',\n",
    " 'fecha_inicio', 'delito', 'fiscalia', 'agencia', 'unidad_investigacion',\n",
    " 'categoria_delito', 'calle_hechos', 'calle_hechos2', 'colonia_hechos',\n",
    " 'alcaldia_hechos', 'competencia', 'longitud', 'latitud']]\n"
   ]
  },
  {
   "cell_type": "code",
   "execution_count": 53,
   "metadata": {},
   "outputs": [
    {
     "name": "stdout",
     "output_type": "stream",
     "text": [
      "['ao_hechos' 'mes_hechos' 'fecha_hechos' 'ao_inicio' 'mes_inicio'\n",
      " 'fecha_inicio' 'delito' 'fiscalia' 'agencia' 'unidad_investigacion'\n",
      " 'categoria_delito' 'calle_hechos' 'calle_hechos2' 'colonia_hechos'\n",
      " 'alcaldia_hechos' 'competencia' 'longitud' 'latitud']\n"
     ]
    }
   ],
   "source": [
    "#Observamos con qué variables contamos\n",
    "print(df.columns.values)"
   ]
  },
  {
   "cell_type": "code",
   "execution_count": 54,
   "metadata": {},
   "outputs": [
    {
     "name": "stdout",
     "output_type": "stream",
     "text": [
      "ao_hechos               float64\n",
      "mes_hechos               object\n",
      "fecha_hechos             object\n",
      "ao_inicio                 int64\n",
      "mes_inicio               object\n",
      "fecha_inicio             object\n",
      "delito                   object\n",
      "fiscalia                 object\n",
      "agencia                  object\n",
      "unidad_investigacion     object\n",
      "categoria_delito         object\n",
      "calle_hechos             object\n",
      "calle_hechos2            object\n",
      "colonia_hechos           object\n",
      "alcaldia_hechos          object\n",
      "competencia              object\n",
      "longitud                float64\n",
      "latitud                 float64\n",
      "dtype: object\n"
     ]
    }
   ],
   "source": [
    "#Observamos el tipo de variables con las cuales contamos\n",
    "print(df.dtypes)"
   ]
  },
  {
   "cell_type": "code",
   "execution_count": 55,
   "metadata": {},
   "outputs": [],
   "source": [
    "#2. Identiﬁca los delitos que van a la alza y a la baja en la CDMX (ten cuidado con los delitos con pocas ocurrencias).\n",
    "# Primero analizaremos para qué años y qué delegaciones tenemos información"
   ]
  },
  {
   "cell_type": "code",
   "execution_count": 56,
   "metadata": {},
   "outputs": [
    {
     "data": {
      "text/plain": [
       "array([2016., 2015., 2012., 2014., 2011., 2008., 2006., 2010., 2013.,\n",
       "       2005., 2009.,   nan, 1955., 2004., 2002., 1998., 1997., 1965.,\n",
       "       2007., 2000., 1987., 1999., 1956., 2001., 1996., 1986., 1915.,\n",
       "       1988., 2017., 2003., 1991., 1993., 1977., 1984., 1995., 1994.,\n",
       "       1990., 1992., 1978., 1989., 1972., 2018., 2019., 1974., 1970.,\n",
       "       1980., 1976., 1983., 1985., 1966., 1969., 1981., 1960., 1982.,\n",
       "       1975., 1954., 1973., 1964., 1968., 1963., 1971., 1958., 1942.,\n",
       "       1930., 1979., 1906., 1962., 1957., 2020., 1950., 1952., 2021.,\n",
       "       1967.])"
      ]
     },
     "execution_count": 56,
     "metadata": {},
     "output_type": "execute_result"
    }
   ],
   "source": [
    "#Observamos que se reportan delitos desde los cuarentas\n",
    "anios=df.ao_hechos.unique()\n",
    "anios"
   ]
  },
  {
   "cell_type": "code",
   "execution_count": 57,
   "metadata": {},
   "outputs": [
    {
     "data": {
      "text/html": [
       "<div>\n",
       "<style scoped>\n",
       "    .dataframe tbody tr th:only-of-type {\n",
       "        vertical-align: middle;\n",
       "    }\n",
       "\n",
       "    .dataframe tbody tr th {\n",
       "        vertical-align: top;\n",
       "    }\n",
       "\n",
       "    .dataframe thead th {\n",
       "        text-align: right;\n",
       "    }\n",
       "</style>\n",
       "<table border=\"1\" class=\"dataframe\">\n",
       "  <thead>\n",
       "    <tr style=\"text-align: right;\">\n",
       "      <th></th>\n",
       "      <th>aux</th>\n",
       "    </tr>\n",
       "    <tr>\n",
       "      <th>ao_hechos</th>\n",
       "      <th></th>\n",
       "    </tr>\n",
       "  </thead>\n",
       "  <tbody>\n",
       "    <tr>\n",
       "      <th>2002.0</th>\n",
       "      <td>105</td>\n",
       "    </tr>\n",
       "    <tr>\n",
       "      <th>2003.0</th>\n",
       "      <td>112</td>\n",
       "    </tr>\n",
       "    <tr>\n",
       "      <th>2004.0</th>\n",
       "      <td>163</td>\n",
       "    </tr>\n",
       "    <tr>\n",
       "      <th>2005.0</th>\n",
       "      <td>192</td>\n",
       "    </tr>\n",
       "    <tr>\n",
       "      <th>2006.0</th>\n",
       "      <td>256</td>\n",
       "    </tr>\n",
       "    <tr>\n",
       "      <th>2007.0</th>\n",
       "      <td>314</td>\n",
       "    </tr>\n",
       "    <tr>\n",
       "      <th>2008.0</th>\n",
       "      <td>464</td>\n",
       "    </tr>\n",
       "    <tr>\n",
       "      <th>2009.0</th>\n",
       "      <td>483</td>\n",
       "    </tr>\n",
       "    <tr>\n",
       "      <th>2010.0</th>\n",
       "      <td>885</td>\n",
       "    </tr>\n",
       "    <tr>\n",
       "      <th>2011.0</th>\n",
       "      <td>1053</td>\n",
       "    </tr>\n",
       "    <tr>\n",
       "      <th>2012.0</th>\n",
       "      <td>1539</td>\n",
       "    </tr>\n",
       "    <tr>\n",
       "      <th>2013.0</th>\n",
       "      <td>2175</td>\n",
       "    </tr>\n",
       "    <tr>\n",
       "      <th>2014.0</th>\n",
       "      <td>4264</td>\n",
       "    </tr>\n",
       "    <tr>\n",
       "      <th>2015.0</th>\n",
       "      <td>15942</td>\n",
       "    </tr>\n",
       "    <tr>\n",
       "      <th>2016.0</th>\n",
       "      <td>194938</td>\n",
       "    </tr>\n",
       "    <tr>\n",
       "      <th>2017.0</th>\n",
       "      <td>227131</td>\n",
       "    </tr>\n",
       "    <tr>\n",
       "      <th>2018.0</th>\n",
       "      <td>253746</td>\n",
       "    </tr>\n",
       "    <tr>\n",
       "      <th>2019.0</th>\n",
       "      <td>243392</td>\n",
       "    </tr>\n",
       "    <tr>\n",
       "      <th>2020.0</th>\n",
       "      <td>199917</td>\n",
       "    </tr>\n",
       "    <tr>\n",
       "      <th>2021.0</th>\n",
       "      <td>100587</td>\n",
       "    </tr>\n",
       "  </tbody>\n",
       "</table>\n",
       "</div>"
      ],
      "text/plain": [
       "              aux\n",
       "ao_hechos        \n",
       "2002.0        105\n",
       "2003.0        112\n",
       "2004.0        163\n",
       "2005.0        192\n",
       "2006.0        256\n",
       "2007.0        314\n",
       "2008.0        464\n",
       "2009.0        483\n",
       "2010.0        885\n",
       "2011.0       1053\n",
       "2012.0       1539\n",
       "2013.0       2175\n",
       "2014.0       4264\n",
       "2015.0      15942\n",
       "2016.0     194938\n",
       "2017.0     227131\n",
       "2018.0     253746\n",
       "2019.0     243392\n",
       "2020.0     199917\n",
       "2021.0     100587"
      ]
     },
     "execution_count": 57,
     "metadata": {},
     "output_type": "execute_result"
    }
   ],
   "source": [
    "#Se observa que a concentración de información se da a partir de 2016, no sabemos\n",
    "# si anterior a este año quizá no había un sistema de información adecuado y ese\n",
    "# es el motivo por el que no aparece información (se sugiere investigar por qué falta\n",
    "# esta información)\n",
    "df['aux']=1\n",
    "anio = df.groupby([\"ao_hechos\"]).agg({'aux':sum})\n",
    "anio.tail(20)"
   ]
  },
  {
   "cell_type": "code",
   "execution_count": 58,
   "metadata": {},
   "outputs": [
    {
     "data": {
      "text/html": [
       "<div>\n",
       "<style scoped>\n",
       "    .dataframe tbody tr th:only-of-type {\n",
       "        vertical-align: middle;\n",
       "    }\n",
       "\n",
       "    .dataframe tbody tr th {\n",
       "        vertical-align: top;\n",
       "    }\n",
       "\n",
       "    .dataframe thead th {\n",
       "        text-align: right;\n",
       "    }\n",
       "</style>\n",
       "<table border=\"1\" class=\"dataframe\">\n",
       "  <thead>\n",
       "    <tr style=\"text-align: right;\">\n",
       "      <th></th>\n",
       "      <th>aux</th>\n",
       "    </tr>\n",
       "    <tr>\n",
       "      <th>alcaldia_hechos</th>\n",
       "      <th></th>\n",
       "    </tr>\n",
       "  </thead>\n",
       "  <tbody>\n",
       "    <tr>\n",
       "      <th>ABALA</th>\n",
       "      <td>1</td>\n",
       "    </tr>\n",
       "    <tr>\n",
       "      <th>ACAMBARO</th>\n",
       "      <td>3</td>\n",
       "    </tr>\n",
       "    <tr>\n",
       "      <th>ACAMBAY</th>\n",
       "      <td>4</td>\n",
       "    </tr>\n",
       "    <tr>\n",
       "      <th>ACAPULCO DE JUAREZ</th>\n",
       "      <td>70</td>\n",
       "    </tr>\n",
       "    <tr>\n",
       "      <th>ACATLAN</th>\n",
       "      <td>3</td>\n",
       "    </tr>\n",
       "    <tr>\n",
       "      <th>ACATZINGO</th>\n",
       "      <td>1</td>\n",
       "    </tr>\n",
       "    <tr>\n",
       "      <th>ACAXOCHITLAN</th>\n",
       "      <td>1</td>\n",
       "    </tr>\n",
       "    <tr>\n",
       "      <th>ACAYUCAN</th>\n",
       "      <td>2</td>\n",
       "    </tr>\n",
       "    <tr>\n",
       "      <th>ACOLMAN</th>\n",
       "      <td>26</td>\n",
       "    </tr>\n",
       "    <tr>\n",
       "      <th>ACONCHI</th>\n",
       "      <td>1</td>\n",
       "    </tr>\n",
       "  </tbody>\n",
       "</table>\n",
       "</div>"
      ],
      "text/plain": [
       "                    aux\n",
       "alcaldia_hechos        \n",
       "ABALA                 1\n",
       "ACAMBARO              3\n",
       "ACAMBAY               4\n",
       "ACAPULCO DE JUAREZ   70\n",
       "ACATLAN               3\n",
       "ACATZINGO             1\n",
       "ACAXOCHITLAN          1\n",
       "ACAYUCAN              2\n",
       "ACOLMAN              26\n",
       "ACONCHI               1"
      ]
     },
     "execution_count": 58,
     "metadata": {},
     "output_type": "execute_result"
    }
   ],
   "source": [
    "#Se observa que hay municipios donde sucedieron los delitos, no es exclusivamente de alcaldías, por lo que seleccionaremos \n",
    "# las alcaldía de la Ciudad de México\n",
    "alcaldias=df.groupby(['alcaldia_hechos']).agg({'aux':sum})\n",
    "alcaldias.head(10)"
   ]
  },
  {
   "cell_type": "code",
   "execution_count": 59,
   "metadata": {},
   "outputs": [
    {
     "data": {
      "text/plain": [
       "array(['BENITO JUAREZ', 'IZTAPALAPA', 'CUAUHTEMOC', 'TLAHUAC',\n",
       "       'IZTACALCO', 'GUSTAVO A MADERO', 'MIGUEL HIDALGO', 'TLALPAN',\n",
       "       'ALVARO OBREGON', 'VENUSTIANO CARRANZA', 'AZCAPOTZALCO',\n",
       "       'CUAJIMALPA DE MORELOS', 'COYOACAN', 'XOCHIMILCO',\n",
       "       'LA MAGDALENA CONTRERAS', 'MILPA ALTA'], dtype=object)"
      ]
     },
     "execution_count": 59,
     "metadata": {},
     "output_type": "execute_result"
    }
   ],
   "source": [
    "# Generamos un nuevo DataFrame con las alcaldías de la Cdmx y verificamos que sí se filtraron\n",
    "alcaldias_cdmx = [\"ALVARO OBREGON\",\"AZCAPOTZALCO\",\"BENITO JUAREZ\",\"COYOACAN\",\"CUAJIMALPA DE MORELOS\",\"CUAUHTEMOC\",\n",
    "                       \"GUSTAVO A MADERO\",\"IZTACALCO\",\"IZTAPALAPA\",\"LA MAGDALENA CONTRERAS\",\"MIGUEL HIDALGO\",\n",
    "                       \"MILPA ALTA\",\"TLAHUAC\",\"TLALPAN\",\"VENUSTIANO CARRANZA\",\"XOCHIMILCO\"]\n",
    "\n",
    "df_cdmx = df[df[\"alcaldia_hechos\"].isin(alcaldias_cdmx)]\n",
    "alcaldias=df_cdmx.alcaldia_hechos.unique()\n",
    "alcaldias"
   ]
  },
  {
   "cell_type": "code",
   "execution_count": 64,
   "metadata": {},
   "outputs": [],
   "source": [
    "#Como observamos anterioremente si consideramos años anteiores a 2016, podría traer resultados con interpreraciones no adecuados por no contar\n",
    "#con la información suficiente, por tal razón filtraremmos la información para los años más robustos\n",
    "df_mx= df_cdmx[(df_cdmx[\"ao_hechos\"]>2015)&(df_cdmx[\"ao_hechos\"]<=2021)][[\"delito\",\"ao_hechos\",\"aux\"]]"
   ]
  },
  {
   "cell_type": "code",
   "execution_count": 65,
   "metadata": {},
   "outputs": [
    {
     "data": {
      "text/plain": [
       "(344,)"
      ]
     },
     "execution_count": 65,
     "metadata": {},
     "output_type": "execute_result"
    }
   ],
   "source": [
    "#filtramos los delitos \n",
    "delitos = df_cdmx.delito.unique()\n",
    "delitos.shape"
   ]
  },
  {
   "cell_type": "code",
   "execution_count": 119,
   "metadata": {},
   "outputs": [
    {
     "name": "stdout",
     "output_type": "stream",
     "text": [
      "int64\n"
     ]
    }
   ],
   "source": [
    "df_19= df_mx[(df_mx[\"ao_hechos\"]==2019)][[\"delito\",\"aux\"]]\n",
    "df_19 = df_19.groupby(\"delito\").count()[\"aux\"]\n",
    "print(df_19.dtypes)"
   ]
  },
  {
   "cell_type": "code",
   "execution_count": 122,
   "metadata": {
    "scrolled": true
   },
   "outputs": [
    {
     "data": {
      "text/plain": [
       "<bound method NDFrame.head of delito\n",
       "ABORTO                                                    133\n",
       "ABUSO DE AUTORIDAD Y USO ILEGAL DE LA FUERZA PUBLICA     2170\n",
       "ABUSO DE CONFIANZA                                       3781\n",
       "ABUSO SEXUAL                                             3896\n",
       "ACOSO SEXUAL                                              964\n",
       "                                                        ...  \n",
       "VIOLACION EQUIPARADA Y ROBO DE VEHICULO                     4\n",
       "VIOLACION TUMULTUARIA                                      36\n",
       "VIOLACION TUMULTUARIA EQUIPARADA                            1\n",
       "VIOLACION TUMULTUARIA EQUIPARADA POR CONOCIDO               2\n",
       "VIOLENCIA FAMILIAR                                      25694\n",
       "Name: aux, Length: 269, dtype: int64>"
      ]
     },
     "execution_count": 122,
     "metadata": {},
     "output_type": "execute_result"
    }
   ],
   "source": [
    "df_19 = df_19.rename({'aux':'num_19'},axis='columns')\n",
    "#df2 = df.rename({'a': 'X', 'b': 'Y'}, axis='columns')\n",
    "df_19.head"
   ]
  },
  {
   "cell_type": "code",
   "execution_count": 123,
   "metadata": {},
   "outputs": [
    {
     "data": {
      "text/plain": [
       "(282,)"
      ]
     },
     "execution_count": 123,
     "metadata": {},
     "output_type": "execute_result"
    }
   ],
   "source": [
    "df_20= df_mx[(df_mx[\"ao_hechos\"]==2020)][[\"delito\",\"aux\"]]\n",
    "df_20 = df_20.groupby(\"delito\").count()[\"aux\"]\n",
    "df_20.shape"
   ]
  },
  {
   "cell_type": "code",
   "execution_count": 124,
   "metadata": {},
   "outputs": [
    {
     "data": {
      "text/plain": [
       "(253, 2)"
      ]
     },
     "execution_count": 124,
     "metadata": {},
     "output_type": "execute_result"
    }
   ],
   "source": [
    "from pandas import DataFrame\n",
    "df_p=pd.merge(df_19, df_20, on=[\"delito\"])\n",
    "df_p.shape"
   ]
  },
  {
   "cell_type": "code",
   "execution_count": 125,
   "metadata": {},
   "outputs": [
    {
     "data": {
      "text/plain": [
       "<bound method NDFrame.head of                                                     aux_x  aux_y\n",
       "delito                                                          \n",
       "ABORTO                                                133     80\n",
       "ABUSO DE AUTORIDAD Y USO ILEGAL DE LA FUERZA PU...   2170   1908\n",
       "ABUSO DE CONFIANZA                                   3781   3486\n",
       "ABUSO SEXUAL                                         3896   2894\n",
       "ACOSO SEXUAL                                          964    917\n",
       "...                                                   ...    ...\n",
       "VIOLACION EQUIPARADA POR CONOCIDO                      18     23\n",
       "VIOLACION EQUIPARADA Y ROBO DE VEHICULO                 4      2\n",
       "VIOLACION TUMULTUARIA                                  36     26\n",
       "VIOLACION TUMULTUARIA EQUIPARADA                        1      1\n",
       "VIOLENCIA FAMILIAR                                  25694  27931\n",
       "\n",
       "[253 rows x 2 columns]>"
      ]
     },
     "execution_count": 125,
     "metadata": {},
     "output_type": "execute_result"
    }
   ],
   "source": [
    "df_p.head"
   ]
  },
  {
   "cell_type": "code",
   "execution_count": 131,
   "metadata": {},
   "outputs": [
    {
     "data": {
      "text/html": [
       "<div>\n",
       "<style scoped>\n",
       "    .dataframe tbody tr th:only-of-type {\n",
       "        vertical-align: middle;\n",
       "    }\n",
       "\n",
       "    .dataframe tbody tr th {\n",
       "        vertical-align: top;\n",
       "    }\n",
       "\n",
       "    .dataframe thead th {\n",
       "        text-align: right;\n",
       "    }\n",
       "</style>\n",
       "<table border=\"1\" class=\"dataframe\">\n",
       "  <thead>\n",
       "    <tr style=\"text-align: right;\">\n",
       "      <th></th>\n",
       "      <th>num_19</th>\n",
       "      <th>num_20</th>\n",
       "      <th>crecimiento</th>\n",
       "    </tr>\n",
       "    <tr>\n",
       "      <th>delito</th>\n",
       "      <th></th>\n",
       "      <th></th>\n",
       "      <th></th>\n",
       "    </tr>\n",
       "  </thead>\n",
       "  <tbody>\n",
       "    <tr>\n",
       "      <th>ROBO A NEGOCIO SIN VIOLENCIA POR FARDEROS (TIENDAS DE AUTOSERVICIO)</th>\n",
       "      <td>27</td>\n",
       "      <td>6159</td>\n",
       "      <td>6132</td>\n",
       "    </tr>\n",
       "    <tr>\n",
       "      <th>VIOLENCIA FAMILIAR</th>\n",
       "      <td>25694</td>\n",
       "      <td>27931</td>\n",
       "      <td>2237</td>\n",
       "    </tr>\n",
       "    <tr>\n",
       "      <th>ENCUBRIMIENTO</th>\n",
       "      <td>12</td>\n",
       "      <td>1718</td>\n",
       "      <td>1706</td>\n",
       "    </tr>\n",
       "    <tr>\n",
       "      <th>ROBO A NEGOCIO CON VIOLENCIA POR FARDEROS (TIENDAS DE CONVENIENCIA)</th>\n",
       "      <td>6</td>\n",
       "      <td>1440</td>\n",
       "      <td>1434</td>\n",
       "    </tr>\n",
       "    <tr>\n",
       "      <th>ROBO A NEGOCIO SIN VIOLENCIA POR FARDEROS (TIENDAS DE CONVENIENCIA)</th>\n",
       "      <td>27</td>\n",
       "      <td>1404</td>\n",
       "      <td>1377</td>\n",
       "    </tr>\n",
       "    <tr>\n",
       "      <th>SUSTRACCIÓN DE MENORES</th>\n",
       "      <td>69</td>\n",
       "      <td>1120</td>\n",
       "      <td>1051</td>\n",
       "    </tr>\n",
       "    <tr>\n",
       "      <th>ROBO S/V DENTRO DE NEGOCIOS, AUTOSERVICIOS, CONVENIENCIA</th>\n",
       "      <td>9</td>\n",
       "      <td>961</td>\n",
       "      <td>952</td>\n",
       "    </tr>\n",
       "    <tr>\n",
       "      <th>CONTRA LA INTIMIDAD SEXUAL</th>\n",
       "      <td>36</td>\n",
       "      <td>740</td>\n",
       "      <td>704</td>\n",
       "    </tr>\n",
       "    <tr>\n",
       "      <th>AMENAZAS</th>\n",
       "      <td>13771</td>\n",
       "      <td>14327</td>\n",
       "      <td>556</td>\n",
       "    </tr>\n",
       "    <tr>\n",
       "      <th>ROBO DE PLACA DE AUTOMOVIL</th>\n",
       "      <td>816</td>\n",
       "      <td>1189</td>\n",
       "      <td>373</td>\n",
       "    </tr>\n",
       "  </tbody>\n",
       "</table>\n",
       "</div>"
      ],
      "text/plain": [
       "                                                    num_19  num_20  \\\n",
       "delito                                                               \n",
       "ROBO A NEGOCIO SIN VIOLENCIA POR FARDEROS (TIEN...      27    6159   \n",
       "VIOLENCIA FAMILIAR                                   25694   27931   \n",
       "ENCUBRIMIENTO                                           12    1718   \n",
       "ROBO A NEGOCIO CON VIOLENCIA POR FARDEROS (TIEN...       6    1440   \n",
       "ROBO A NEGOCIO SIN VIOLENCIA POR FARDEROS (TIEN...      27    1404   \n",
       "SUSTRACCIÓN DE MENORES                                  69    1120   \n",
       "ROBO S/V DENTRO DE NEGOCIOS, AUTOSERVICIOS, CON...       9     961   \n",
       "CONTRA LA INTIMIDAD SEXUAL                              36     740   \n",
       "AMENAZAS                                             13771   14327   \n",
       "ROBO DE PLACA DE AUTOMOVIL                             816    1189   \n",
       "\n",
       "                                                    crecimiento  \n",
       "delito                                                           \n",
       "ROBO A NEGOCIO SIN VIOLENCIA POR FARDEROS (TIEN...         6132  \n",
       "VIOLENCIA FAMILIAR                                         2237  \n",
       "ENCUBRIMIENTO                                              1706  \n",
       "ROBO A NEGOCIO CON VIOLENCIA POR FARDEROS (TIEN...         1434  \n",
       "ROBO A NEGOCIO SIN VIOLENCIA POR FARDEROS (TIEN...         1377  \n",
       "SUSTRACCIÓN DE MENORES                                     1051  \n",
       "ROBO S/V DENTRO DE NEGOCIOS, AUTOSERVICIOS, CON...          952  \n",
       "CONTRA LA INTIMIDAD SEXUAL                                  704  \n",
       "AMENAZAS                                                    556  \n",
       "ROBO DE PLACA DE AUTOMOVIL                                  373  "
      ]
     },
     "execution_count": 131,
     "metadata": {},
     "output_type": "execute_result"
    }
   ],
   "source": [
    "#Si solo consideramos el crecimiento en función tal cual la diferencia, observamos delitos con muy pocas observaciones, tendríamos que \n",
    "#investigar si los delitos se reclasificaron o por qué suben tanto, para dar una visión más general lo mejor es considerar a los\n",
    "# delitos que se comportan de una forma similar en ambos años\n",
    "df_p = df_p.rename({'aux_x':'num_19','aux_y':'num_20'},axis='columns')\n",
    "df_p['crecimiento']=(df_p.num_20-df_p.num_19)\n",
    "\n",
    "df_p.sort_values(by='crecimiento',ascending=False)[:10]"
   ]
  },
  {
   "cell_type": "code",
   "execution_count": 132,
   "metadata": {},
   "outputs": [],
   "source": [
    "df_p_m =df_p[df_p['num_19']>100]"
   ]
  },
  {
   "cell_type": "code",
   "execution_count": 133,
   "metadata": {},
   "outputs": [
    {
     "data": {
      "text/html": [
       "<div>\n",
       "<style scoped>\n",
       "    .dataframe tbody tr th:only-of-type {\n",
       "        vertical-align: middle;\n",
       "    }\n",
       "\n",
       "    .dataframe tbody tr th {\n",
       "        vertical-align: top;\n",
       "    }\n",
       "\n",
       "    .dataframe thead th {\n",
       "        text-align: right;\n",
       "    }\n",
       "</style>\n",
       "<table border=\"1\" class=\"dataframe\">\n",
       "  <thead>\n",
       "    <tr style=\"text-align: right;\">\n",
       "      <th></th>\n",
       "      <th>num_19</th>\n",
       "      <th>num_20</th>\n",
       "      <th>crecimiento</th>\n",
       "    </tr>\n",
       "    <tr>\n",
       "      <th>delito</th>\n",
       "      <th></th>\n",
       "      <th></th>\n",
       "      <th></th>\n",
       "    </tr>\n",
       "  </thead>\n",
       "  <tbody>\n",
       "    <tr>\n",
       "      <th>VIOLENCIA FAMILIAR</th>\n",
       "      <td>25694</td>\n",
       "      <td>27931</td>\n",
       "      <td>2237</td>\n",
       "    </tr>\n",
       "    <tr>\n",
       "      <th>AMENAZAS</th>\n",
       "      <td>13771</td>\n",
       "      <td>14327</td>\n",
       "      <td>556</td>\n",
       "    </tr>\n",
       "    <tr>\n",
       "      <th>ROBO DE PLACA DE AUTOMOVIL</th>\n",
       "      <td>816</td>\n",
       "      <td>1189</td>\n",
       "      <td>373</td>\n",
       "    </tr>\n",
       "    <tr>\n",
       "      <th>ROBO A TRANSEUNTE EN PARQUES Y MERCADOS CON VIOLENCIA</th>\n",
       "      <td>327</td>\n",
       "      <td>590</td>\n",
       "      <td>263</td>\n",
       "    </tr>\n",
       "    <tr>\n",
       "      <th>PERSONAS EXTRAVIADAS Y AUSENTES</th>\n",
       "      <td>308</td>\n",
       "      <td>476</td>\n",
       "      <td>168</td>\n",
       "    </tr>\n",
       "    <tr>\n",
       "      <th>NARCOMENUDEO POSESIÓN CON FINES DE VENTA, COMERCIO Y SUMINISTRO</th>\n",
       "      <td>1040</td>\n",
       "      <td>1192</td>\n",
       "      <td>152</td>\n",
       "    </tr>\n",
       "    <tr>\n",
       "      <th>VIOLACION EQUIPARADA</th>\n",
       "      <td>241</td>\n",
       "      <td>369</td>\n",
       "      <td>128</td>\n",
       "    </tr>\n",
       "    <tr>\n",
       "      <th>ROBO A TRANSEUNTE EN NEGOCIO CON VIOLENCIA</th>\n",
       "      <td>388</td>\n",
       "      <td>477</td>\n",
       "      <td>89</td>\n",
       "    </tr>\n",
       "    <tr>\n",
       "      <th>DDH RELACIONADAS</th>\n",
       "      <td>207</td>\n",
       "      <td>285</td>\n",
       "      <td>78</td>\n",
       "    </tr>\n",
       "    <tr>\n",
       "      <th>ROBO A PASAJERO A BORDO DE TRANSPORTE PÚBLICO SIN VIOLENCIA</th>\n",
       "      <td>391</td>\n",
       "      <td>451</td>\n",
       "      <td>60</td>\n",
       "    </tr>\n",
       "  </tbody>\n",
       "</table>\n",
       "</div>"
      ],
      "text/plain": [
       "                                                    num_19  num_20  \\\n",
       "delito                                                               \n",
       "VIOLENCIA FAMILIAR                                   25694   27931   \n",
       "AMENAZAS                                             13771   14327   \n",
       "ROBO DE PLACA DE AUTOMOVIL                             816    1189   \n",
       "ROBO A TRANSEUNTE EN PARQUES Y MERCADOS CON VIO...     327     590   \n",
       "PERSONAS EXTRAVIADAS Y AUSENTES                        308     476   \n",
       "NARCOMENUDEO POSESIÓN CON FINES DE VENTA, COMER...    1040    1192   \n",
       "VIOLACION EQUIPARADA                                   241     369   \n",
       "ROBO A TRANSEUNTE EN NEGOCIO CON VIOLENCIA             388     477   \n",
       "DDH RELACIONADAS                                       207     285   \n",
       "ROBO A PASAJERO A BORDO DE TRANSPORTE PÚBLICO S...     391     451   \n",
       "\n",
       "                                                    crecimiento  \n",
       "delito                                                           \n",
       "VIOLENCIA FAMILIAR                                         2237  \n",
       "AMENAZAS                                                    556  \n",
       "ROBO DE PLACA DE AUTOMOVIL                                  373  \n",
       "ROBO A TRANSEUNTE EN PARQUES Y MERCADOS CON VIO...          263  \n",
       "PERSONAS EXTRAVIADAS Y AUSENTES                             168  \n",
       "NARCOMENUDEO POSESIÓN CON FINES DE VENTA, COMER...          152  \n",
       "VIOLACION EQUIPARADA                                        128  \n",
       "ROBO A TRANSEUNTE EN NEGOCIO CON VIOLENCIA                   89  \n",
       "DDH RELACIONADAS                                             78  \n",
       "ROBO A PASAJERO A BORDO DE TRANSPORTE PÚBLICO S...           60  "
      ]
     },
     "execution_count": 133,
     "metadata": {},
     "output_type": "execute_result"
    }
   ],
   "source": [
    "#Con la restricción anterior, observamos que los delitos que más se incrementaron de 2019 a 2020 fueron Violencia Familiar,\n",
    "# menazas, robo de placas y robo a transeúntes, así como narcomenudeo. Estos delitos son clasificados como delitos de bajo impacto.\n",
    "#Mientras que para estos años se observó una disminución en el Robo a negocios sin violencia, robo a transeúntes y robo de objetos.\n",
    "\n",
    "df_p_m.sort_values(by='crecimiento',ascending=False)[:10]"
   ]
  },
  {
   "cell_type": "code",
   "execution_count": 134,
   "metadata": {},
   "outputs": [
    {
     "data": {
      "text/html": [
       "<div>\n",
       "<style scoped>\n",
       "    .dataframe tbody tr th:only-of-type {\n",
       "        vertical-align: middle;\n",
       "    }\n",
       "\n",
       "    .dataframe tbody tr th {\n",
       "        vertical-align: top;\n",
       "    }\n",
       "\n",
       "    .dataframe thead th {\n",
       "        text-align: right;\n",
       "    }\n",
       "</style>\n",
       "<table border=\"1\" class=\"dataframe\">\n",
       "  <thead>\n",
       "    <tr style=\"text-align: right;\">\n",
       "      <th></th>\n",
       "      <th>num_19</th>\n",
       "      <th>num_20</th>\n",
       "      <th>crecimiento</th>\n",
       "    </tr>\n",
       "    <tr>\n",
       "      <th>delito</th>\n",
       "      <th></th>\n",
       "      <th></th>\n",
       "      <th></th>\n",
       "    </tr>\n",
       "  </thead>\n",
       "  <tbody>\n",
       "    <tr>\n",
       "      <th>ROBO A NEGOCIO SIN VIOLENCIA</th>\n",
       "      <td>15753</td>\n",
       "      <td>4443</td>\n",
       "      <td>-11310</td>\n",
       "    </tr>\n",
       "    <tr>\n",
       "      <th>ROBO A TRANSEUNTE EN VIA PUBLICA CON VIOLENCIA</th>\n",
       "      <td>13272</td>\n",
       "      <td>8618</td>\n",
       "      <td>-4654</td>\n",
       "    </tr>\n",
       "    <tr>\n",
       "      <th>ROBO DE OBJETOS</th>\n",
       "      <td>12467</td>\n",
       "      <td>9045</td>\n",
       "      <td>-3422</td>\n",
       "    </tr>\n",
       "    <tr>\n",
       "      <th>ROBO A NEGOCIO CON VIOLENCIA</th>\n",
       "      <td>5020</td>\n",
       "      <td>1853</td>\n",
       "      <td>-3167</td>\n",
       "    </tr>\n",
       "    <tr>\n",
       "      <th>PRODUCCIÓN, IMPRESIÓN, ENAJENACIÓN, DISTRIBUCIÓN, ALTERACIÓN O FALSIFICACIÓN DE TÍTULOS AL PORTADOR, DOCUMENTOS DE CRÉDITO PÚBLICOS O VALES DE CANJE</th>\n",
       "      <td>5692</td>\n",
       "      <td>2662</td>\n",
       "      <td>-3030</td>\n",
       "    </tr>\n",
       "    <tr>\n",
       "      <th>ROBO A CASA HABITACION SIN VIOLENCIA</th>\n",
       "      <td>5938</td>\n",
       "      <td>3457</td>\n",
       "      <td>-2481</td>\n",
       "    </tr>\n",
       "    <tr>\n",
       "      <th>ROBO A PASAJERO A BORDO DE METRO SIN VIOLENCIA</th>\n",
       "      <td>2387</td>\n",
       "      <td>657</td>\n",
       "      <td>-1730</td>\n",
       "    </tr>\n",
       "    <tr>\n",
       "      <th>ROBO DE OBJETOS DEL INTERIOR DE UN VEHICULO</th>\n",
       "      <td>6629</td>\n",
       "      <td>4919</td>\n",
       "      <td>-1710</td>\n",
       "    </tr>\n",
       "    <tr>\n",
       "      <th>ROBO A PASAJERO / CONDUCTOR DE VEHICULO CON VIOLENCIA</th>\n",
       "      <td>3776</td>\n",
       "      <td>2335</td>\n",
       "      <td>-1441</td>\n",
       "    </tr>\n",
       "    <tr>\n",
       "      <th>ROBO DE VEHICULO DE SERVICIO PARTICULAR SIN VIOLENCIA</th>\n",
       "      <td>6449</td>\n",
       "      <td>5100</td>\n",
       "      <td>-1349</td>\n",
       "    </tr>\n",
       "  </tbody>\n",
       "</table>\n",
       "</div>"
      ],
      "text/plain": [
       "                                                    num_19  num_20  \\\n",
       "delito                                                               \n",
       "ROBO A NEGOCIO SIN VIOLENCIA                         15753    4443   \n",
       "ROBO A TRANSEUNTE EN VIA PUBLICA CON VIOLENCIA       13272    8618   \n",
       "ROBO DE OBJETOS                                      12467    9045   \n",
       "ROBO A NEGOCIO CON VIOLENCIA                          5020    1853   \n",
       "PRODUCCIÓN, IMPRESIÓN, ENAJENACIÓN, DISTRIBUCIÓ...    5692    2662   \n",
       "ROBO A CASA HABITACION SIN VIOLENCIA                  5938    3457   \n",
       "ROBO A PASAJERO A BORDO DE METRO SIN VIOLENCIA        2387     657   \n",
       "ROBO DE OBJETOS DEL INTERIOR DE UN VEHICULO           6629    4919   \n",
       "ROBO A PASAJERO / CONDUCTOR DE VEHICULO CON VIO...    3776    2335   \n",
       "ROBO DE VEHICULO DE SERVICIO PARTICULAR SIN VIO...    6449    5100   \n",
       "\n",
       "                                                    crecimiento  \n",
       "delito                                                           \n",
       "ROBO A NEGOCIO SIN VIOLENCIA                             -11310  \n",
       "ROBO A TRANSEUNTE EN VIA PUBLICA CON VIOLENCIA            -4654  \n",
       "ROBO DE OBJETOS                                           -3422  \n",
       "ROBO A NEGOCIO CON VIOLENCIA                              -3167  \n",
       "PRODUCCIÓN, IMPRESIÓN, ENAJENACIÓN, DISTRIBUCIÓ...        -3030  \n",
       "ROBO A CASA HABITACION SIN VIOLENCIA                      -2481  \n",
       "ROBO A PASAJERO A BORDO DE METRO SIN VIOLENCIA            -1730  \n",
       "ROBO DE OBJETOS DEL INTERIOR DE UN VEHICULO               -1710  \n",
       "ROBO A PASAJERO / CONDUCTOR DE VEHICULO CON VIO...        -1441  \n",
       "ROBO DE VEHICULO DE SERVICIO PARTICULAR SIN VIO...        -1349  "
      ]
     },
     "execution_count": 134,
     "metadata": {},
     "output_type": "execute_result"
    }
   ],
   "source": [
    "df_p_m.sort_values(by='crecimiento',ascending=True)[:10]"
   ]
  },
  {
   "cell_type": "code",
   "execution_count": 104,
   "metadata": {},
   "outputs": [],
   "source": [
    "#3. ¿Cuál es la alcaldía que más delitos tiene y cuál es la que menos? ¿Por qué crees que sea esto?"
   ]
  },
  {
   "cell_type": "code",
   "execution_count": 135,
   "metadata": {},
   "outputs": [],
   "source": [
    "delitos_alcaldia = df_cdmx.groupby(\"alcaldia_hechos\").count()[\"aux\"]"
   ]
  },
  {
   "cell_type": "code",
   "execution_count": null,
   "metadata": {},
   "outputs": [],
   "source": [
    "#Las alcaldías que presentan mayor cantidad de delitos son la alcaldía Cuauhtémoc e Iztapalapa. \n",
    "#Esto podría deberse a que, por un lado la alcaldía Cuauhtémoc presenta una fuerte dinámica económica, \n",
    "#mientras que la delegación Iztapalapa además de presentar niveles de marginación altos, es la delegación \n",
    "#con mayor población de la CDMX. Las delegaciones con menores delitos fueron\n",
    "#Milpa Alta, al ser una alcaldía con menor densidad poblacional se esperaría una menor cantidad de delitos, \n",
    "#en segundo lugar se encuentra Cuajimalpa aunque esta alcaldía presenta un fuerte dinamismo económico, \n",
    "#es una alcaldía moderna pues se ubican los principales corporativos financieros y empresariales más importante del país,\n",
    "#por lo que se la seguridad de la zona podría ser mayor.\n"
   ]
  },
  {
   "cell_type": "code",
   "execution_count": 136,
   "metadata": {},
   "outputs": [
    {
     "data": {
      "text/plain": [
       "alcaldia_hechos\n",
       "CUAUHTEMOC    194531\n",
       "IZTAPALAPA    187860\n",
       "Name: aux, dtype: int64"
      ]
     },
     "execution_count": 136,
     "metadata": {},
     "output_type": "execute_result"
    }
   ],
   "source": [
    "delitos_alcaldia.sort_values(ascending=False)[:2]\n"
   ]
  },
  {
   "cell_type": "code",
   "execution_count": 137,
   "metadata": {},
   "outputs": [
    {
     "data": {
      "text/plain": [
       "alcaldia_hechos\n",
       "MILPA ALTA                8958\n",
       "CUAJIMALPA DE MORELOS    18525\n",
       "Name: aux, dtype: int64"
      ]
     },
     "execution_count": 137,
     "metadata": {},
     "output_type": "execute_result"
    }
   ],
   "source": [
    "delitos_alcaldia.sort_values(ascending=True)[:2]"
   ]
  },
  {
   "cell_type": "code",
   "execution_count": 97,
   "metadata": {
    "scrolled": true
   },
   "outputs": [
    {
     "data": {
      "text/plain": [
       "(2758, 2)"
      ]
     },
     "execution_count": 97,
     "metadata": {},
     "output_type": "execute_result"
    }
   ],
   "source": [
    "#4. ¿Existe alguna tendencia estacional en la ocurrencia de delitos (mes, semana, día de la semana, quincenas) en la CDMX? ¿A qué crees que se deba?"
   ]
  },
  {
   "cell_type": "code",
   "execution_count": 179,
   "metadata": {},
   "outputs": [],
   "source": [
    "df_17= df_cdmx[(df_cdmx[\"ao_hechos\"]==2017)][[\"delito\",\"mes_hechos\",\"aux\"]]"
   ]
  },
  {
   "cell_type": "code",
   "execution_count": 180,
   "metadata": {},
   "outputs": [],
   "source": [
    "m_17 = df_17.groupby([\"mes_hechos\"]).count()[\"aux\"]\n",
    "\n",
    "meses = [\"Enero\",\"Febrero\",\"Marzo\",\"Abril\",\"Mayo\",\"Junio\",\n",
    "            \"Julio\",\"Agosto\",\"Septiembre\",\"Octubre\",\"Noviembre\",\"Diciembre\"]\n",
    "\n",
    "orden = []\n",
    "for i in range(len(m_17)):\n",
    "    for j in range(len(meses)):\n",
    "        if m_17.keys()[i] == meses[j]:\n",
    "            orden.append([meses[i],m_17[j]])\n",
    "\n",
    "m_17 = pd.DataFrame(orden,columns=[\"mes\",\"delitos\"])"
   ]
  },
  {
   "cell_type": "code",
   "execution_count": 181,
   "metadata": {},
   "outputs": [
    {
     "data": {
      "text/plain": [
       "Text(0, 0.5, 'Número de delitos')"
      ]
     },
     "execution_count": 181,
     "metadata": {},
     "output_type": "execute_result"
    },
    {
     "data": {
      "image/png": "[encoded data removed]",
      "text/plain": [
       "<Figure size 1008x360 with 1 Axes>"
      ]
     },
     "metadata": {
      "needs_background": "light"
     },
     "output_type": "display_data"
    }
   ],
   "source": [
    "m_17.plot(figsize=(14,5))\n",
    "plt.title('Número de delitos en 2017')\n",
    "plt.xlabel('Meses')\n",
    "plt.ylabel('Número de delitos')"
   ]
  },
  {
   "cell_type": "code",
   "execution_count": 168,
   "metadata": {},
   "outputs": [],
   "source": [
    "df_18= df_cdmx[(df_cdmx[\"ao_hechos\"]==2018)][[\"delito\",\"mes_hechos\",\"aux\"]]"
   ]
  },
  {
   "cell_type": "code",
   "execution_count": 169,
   "metadata": {},
   "outputs": [],
   "source": [
    "m_18 = df_18.groupby([\"mes_hechos\"]).count()[\"aux\"]\n",
    "\n",
    "meses = [\"Enero\",\"Febrero\",\"Marzo\",\"Abril\",\"Mayo\",\"Junio\",\n",
    "            \"Julio\",\"Agosto\",\"Septiembre\",\"Octubre\",\"Noviembre\",\"Diciembre\"]\n",
    "\n",
    "orden = []\n",
    "for i in range(len(m_18)):\n",
    "    for j in range(len(meses)):\n",
    "        if m_18.keys()[i] == meses[j]:\n",
    "            orden.append([meses[i],m_18[j]])\n",
    "\n",
    "m_18 = pd.DataFrame(orden,columns=[\"mes\",\"delitos\"])"
   ]
  },
  {
   "cell_type": "code",
   "execution_count": 170,
   "metadata": {},
   "outputs": [
    {
     "data": {
      "text/plain": [
       "Text(0, 0.5, 'Número de delitos')"
      ]
     },
     "execution_count": 170,
     "metadata": {},
     "output_type": "execute_result"
    },
    {
     "data": {
      "image/png": "[encoded data removed]",
      "text/plain": [
       "<Figure size 1008x360 with 1 Axes>"
      ]
     },
     "metadata": {
      "needs_background": "light"
     },
     "output_type": "display_data"
    }
   ],
   "source": [
    "m_18.plot(figsize=(14,5))\n",
    "plt.title('Número de delitos en 2018')\n",
    "plt.xlabel('Meses')\n",
    "plt.ylabel('Número de delitos')"
   ]
  },
  {
   "cell_type": "code",
   "execution_count": 155,
   "metadata": {},
   "outputs": [],
   "source": [
    "df_19= df_cdmx[(df_cdmx[\"ao_hechos\"]==2019)][[\"delito\",\"mes_hechos\",\"aux\"]]"
   ]
  },
  {
   "cell_type": "code",
   "execution_count": 156,
   "metadata": {},
   "outputs": [],
   "source": [
    "m_19 = df_19.groupby([\"mes_hechos\"]).count()[\"aux\"]\n",
    "\n",
    "meses = [\"Enero\",\"Febrero\",\"Marzo\",\"Abril\",\"Mayo\",\"Junio\",\n",
    "            \"Julio\",\"Agosto\",\"Septiembre\",\"Octubre\",\"Noviembre\",\"Diciembre\"]\n",
    "\n",
    "orden = []\n",
    "for i in range(len(m_19)):\n",
    "    for j in range(len(meses)):\n",
    "        if m_19.keys()[i] == meses[j]:\n",
    "            orden.append([meses[i],m_19[j]])\n",
    "\n",
    "m_19 = pd.DataFrame(orden,columns=[\"mes\",\"delitos\"])"
   ]
  },
  {
   "cell_type": "code",
   "execution_count": 157,
   "metadata": {},
   "outputs": [
    {
     "data": {
      "text/plain": [
       "Text(0, 0.5, 'Número de delitos')"
      ]
     },
     "execution_count": 157,
     "metadata": {},
     "output_type": "execute_result"
    },
    {
     "data": {
      "image/png": "[encoded data removed]",
      "text/plain": [
       "<Figure size 1008x360 with 1 Axes>"
      ]
     },
     "metadata": {
      "needs_background": "light"
     },
     "output_type": "display_data"
    }
   ],
   "source": [
    "m_19.plot(figsize=(14,5))\n",
    "plt.title('Número de delitos en 2019')\n",
    "plt.xlabel('Meses')\n",
    "plt.ylabel('Número de delitos')"
   ]
  },
  {
   "cell_type": "code",
   "execution_count": 141,
   "metadata": {},
   "outputs": [],
   "source": [
    "df_20= df_cdmx[(df_cdmx[\"ao_hechos\"]==2020)][[\"delito\",\"mes_hechos\",\"aux\"]]\n"
   ]
  },
  {
   "cell_type": "code",
   "execution_count": 149,
   "metadata": {},
   "outputs": [],
   "source": [
    "m_20 = df_20.groupby([\"mes_hechos\"]).count()[\"aux\"]\n",
    "\n",
    "meses = [\"Enero\",\"Febrero\",\"Marzo\",\"Abril\",\"Mayo\",\"Junio\",\n",
    "            \"Julio\",\"Agosto\",\"Septiembre\",\"Octubre\",\"Noviembre\",\"Diciembre\"]\n",
    "\n",
    "orden = []\n",
    "for i in range(len(m_20)):\n",
    "    for j in range(len(meses)):\n",
    "        if m_20.keys()[i] == meses[j]:\n",
    "            orden.append([meses[i],m_20[j]])\n",
    "\n",
    "m_20 = pd.DataFrame(orden,columns=[\"mes\",\"delitos\"])"
   ]
  },
  {
   "cell_type": "code",
   "execution_count": 171,
   "metadata": {},
   "outputs": [
    {
     "data": {
      "text/plain": [
       "Text(0, 0.5, 'Número de delitos')"
      ]
     },
     "execution_count": 171,
     "metadata": {},
     "output_type": "execute_result"
    },
    {
     "data": {
      "image/png": "[encoded data removed]",
      "text/plain": [
       "<Figure size 1008x360 with 1 Axes>"
      ]
     },
     "metadata": {
      "needs_background": "light"
     },
     "output_type": "display_data"
    }
   ],
   "source": [
    "m_20.plot(figsize=(14,5))\n",
    "plt.title('Número de delitos en 2020')\n",
    "plt.xlabel('Meses')\n",
    "plt.ylabel('Número de delitos')"
   ]
  },
  {
   "cell_type": "code",
   "execution_count": 195,
   "metadata": {},
   "outputs": [],
   "source": [
    "df_21= df_cdmx[(df_cdmx[\"ao_hechos\"]==2021)][[\"delito\",\"mes_hechos\",\"aux\"]]"
   ]
  },
  {
   "cell_type": "code",
   "execution_count": 202,
   "metadata": {},
   "outputs": [],
   "source": [
    "m_21 = df_21.groupby([\"mes_hechos\"]).count()[\"aux\"]\n",
    "\n",
    "\n",
    "meses = [\"Enero\",\"Febrero\",\"Marzo\",\"Abril\",\"Mayo\",\"Junio\",\n",
    "            \"Julio\",\"Agosto\",\"Septiembre\",\"Octubre\",\"Noviembre\",\"Diciembre\"]\n",
    "\n",
    "orden = []\n",
    "for i in range(len(m_21)):\n",
    "    for j in range(len(meses)):\n",
    "        if m_21.keys()[i] == meses[j]:\n",
    "            orden.append([meses[i],m_21[j]])\n",
    "\n",
    "m_21 = pd.DataFrame(orden,columns=[\"mes\",\"delitos\"])"
   ]
  },
  {
   "cell_type": "code",
   "execution_count": 203,
   "metadata": {},
   "outputs": [
    {
     "data": {
      "text/plain": [
       "Text(0, 0.5, 'Número de delitos')"
      ]
     },
     "execution_count": 203,
     "metadata": {},
     "output_type": "execute_result"
    },
    {
     "data": {
      "image/png": "[encoded data removed]",
      "text/plain": [
       "<Figure size 1008x360 with 1 Axes>"
      ]
     },
     "metadata": {
      "needs_background": "light"
     },
     "output_type": "display_data"
    }
   ],
   "source": [
    "m_21.plot(figsize=(14,5))\n",
    "plt.title('Número de delitos en 2021')\n",
    "plt.xlabel('Meses')\n",
    "plt.ylabel('Número de delitos')"
   ]
  },
  {
   "cell_type": "code",
   "execution_count": 174,
   "metadata": {},
   "outputs": [
    {
     "data": {
      "text/plain": [
       "<bound method NDFrame.head of            mes  delitos_2019  delitos_2020\n",
       "0        Enero         20499         19622\n",
       "1      Febrero         21678         19749\n",
       "2        Marzo         19636         16695\n",
       "3        Abril         19898         12045\n",
       "4         Mayo         20490         16944\n",
       "5        Junio         19980         13921\n",
       "6        Julio         19708         15859\n",
       "7       Agosto         18057         15593\n",
       "8   Septiembre         20054         20142\n",
       "9      Octubre         20080         18069\n",
       "10   Noviembre         19352         16968\n",
       "11   Diciembre         21538         12470>"
      ]
     },
     "execution_count": 174,
     "metadata": {},
     "output_type": "execute_result"
    }
   ],
   "source": [
    "df_g=pd.merge(m_19, m_20, on=[\"mes\"])\n",
    "df_g = df_g.rename({'delitos_x':'delitos_2019','delitos_y':'delitos_2020'},axis='columns')\n",
    "df_g.head"
   ]
  },
  {
   "cell_type": "code",
   "execution_count": 208,
   "metadata": {},
   "outputs": [],
   "source": [
    "df_g1=pd.merge(m_18, df_g, on=[\"mes\"])\n",
    "df_g1 = df_g1.rename({'delitos':'delitos_2018',},axis='columns')\n",
    "\n",
    "df_g2=pd.merge(m_17, df_g1, on=[\"mes\"])\n",
    "df_g2 = df_g2.rename({'delitos':'delitos_2017',},axis='columns')\n",
    "\n"
   ]
  },
  {
   "cell_type": "code",
   "execution_count": 209,
   "metadata": {},
   "outputs": [
    {
     "data": {
      "image/png": "[encoded data removed]",
      "text/plain": [
       "<Figure size 432x288 with 1 Axes>"
      ]
     },
     "metadata": {
      "needs_background": "light"
     },
     "output_type": "display_data"
    }
   ],
   "source": [
    "#Se observa claramente que la dinámica de los delitos cambió debido a la pandemia por la COVID-19 en 2020, en los años anteriores se observa\n",
    "# estacionalidad en mayo y en octubre. En mayo podría deberse al reparto de utilidades en el supuesto de que hay más delincuencia por que\n",
    "# las personas tienen más ingresos (pensando en delitos como robos) y en octubre supondría que los delincuentes se preparan para contar\n",
    "# con recursos económicos para fin de año. También en febrero se observa estacionalidad, aquí probablemente sucede que ante la\n",
    "# cuesta de enero los delincuentes buscan una salida económica. Esta serie sería importante revisarla por los delitos más\n",
    "# frecuentes como \"Violencia Familiar\", ya que cuando surgió la pandemia al estar encerrados la violencia contra mujeres aumentó\n",
    "# según la ONU https://www.unwomen.org/es/news/in-focus/in-focus-gender-equality-in-covid-19-response/violence-against-women-during-covid-19\n",
    "# si bien la Violencia Familiar podría incluir hombres, en general se ha demostrado que la violencia es hacia la mujer.\n",
    "ax = plt.gca()\n",
    "df_g2.plot(kind='line',x='mes',y='delitos_2017',ax=ax)\n",
    "df_g2.plot(kind='line',x='mes',y='delitos_2018',ax=ax)\n",
    "df_g2.plot(kind='line',x='mes',y='delitos_2019',ax=ax)\n",
    "df_g2.plot(kind='line',x='mes',y='delitos_2020', color='red', ax=ax)\n",
    "plt.show()"
   ]
  },
  {
   "cell_type": "code",
   "execution_count": 22,
   "metadata": {},
   "outputs": [],
   "source": [
    "#5.¿Cuáles son los delitos que más caracterizan a cada alcaldía? \n"
   ]
  },
  {
   "cell_type": "code",
   "execution_count": 186,
   "metadata": {},
   "outputs": [
    {
     "data": {
      "text/plain": [
       "alcaldia_hechos         delito                                        \n",
       "ALVARO OBREGON          VIOLENCIA FAMILIAR                                 9694\n",
       "                        AMENAZAS                                           4921\n",
       "                        FRAUDE                                             4625\n",
       "AZCAPOTZALCO            VIOLENCIA FAMILIAR                                 6123\n",
       "                        ROBO A NEGOCIO SIN VIOLENCIA                       4046\n",
       "                        AMENAZAS                                           3955\n",
       "BENITO JUAREZ           FRAUDE                                            10277\n",
       "                        ROBO DE ACCESORIOS DE AUTO                         8346\n",
       "                        ROBO A NEGOCIO SIN VIOLENCIA                       7847\n",
       "COYOACAN                VIOLENCIA FAMILIAR                                 8451\n",
       "                        ROBO DE OBJETOS                                    5663\n",
       "                        ROBO A NEGOCIO SIN VIOLENCIA                       5397\n",
       "CUAJIMALPA DE MORELOS   VIOLENCIA FAMILIAR                                 2324\n",
       "                        FRAUDE                                             1464\n",
       "                        ROBO A NEGOCIO SIN VIOLENCIA                       1275\n",
       "CUAUHTEMOC              FRAUDE                                            19346\n",
       "                        ROBO DE OBJETOS                                   14050\n",
       "                        ROBO A NEGOCIO SIN VIOLENCIA                      10740\n",
       "GUSTAVO A MADERO        VIOLENCIA FAMILIAR                                15172\n",
       "                        ROBO A NEGOCIO SIN VIOLENCIA                       7011\n",
       "                        AMENAZAS                                           6867\n",
       "IZTACALCO               VIOLENCIA FAMILIAR                                 7589\n",
       "                        ROBO A TRANSEUNTE EN VIA PUBLICA CON VIOLENCIA     3298\n",
       "                        AMENAZAS                                           2900\n",
       "IZTAPALAPA              VIOLENCIA FAMILIAR                                23540\n",
       "                        ROBO A TRANSEUNTE EN VIA PUBLICA CON VIOLENCIA    12241\n",
       "                        AMENAZAS                                          10775\n",
       "LA MAGDALENA CONTRERAS  VIOLENCIA FAMILIAR                                 4773\n",
       "                        AMENAZAS                                           1664\n",
       "                        FRAUDE                                              889\n",
       "MIGUEL HIDALGO          FRAUDE                                             7424\n",
       "                        ROBO DE OBJETOS                                    6324\n",
       "                        ROBO A TRANSEUNTE EN VIA PUBLICA CON VIOLENCIA     5265\n",
       "MILPA ALTA              VIOLENCIA FAMILIAR                                 2068\n",
       "                        AMENAZAS                                            621\n",
       "                        ROBO A CASA HABITACION SIN VIOLENCIA                350\n",
       "TLAHUAC                 VIOLENCIA FAMILIAR                                 5566\n",
       "                        AMENAZAS                                           2184\n",
       "                        ROBO A TRANSEUNTE EN VIA PUBLICA CON VIOLENCIA     1599\n",
       "TLALPAN                 VIOLENCIA FAMILIAR                                 9372\n",
       "                        AMENAZAS                                           4795\n",
       "                        ROBO DE OBJETOS                                    4432\n",
       "VENUSTIANO CARRANZA     VIOLENCIA FAMILIAR                                 7199\n",
       "                        ROBO DE OBJETOS                                    4536\n",
       "                        AMENAZAS                                           4332\n",
       "XOCHIMILCO              VIOLENCIA FAMILIAR                                 6500\n",
       "                        AMENAZAS                                           2789\n",
       "                        ROBO A TRANSEUNTE EN VIA PUBLICA CON VIOLENCIA     2120\n",
       "Name: aux, dtype: int64"
      ]
     },
     "execution_count": 186,
     "metadata": {},
     "output_type": "execute_result"
    }
   ],
   "source": [
    "#Como se ha observado anterioremente prevalece el el delito de \"Violencia Familiar\" y \"Amenazas\" en la mayoría de las alcaldías.\n",
    "#Sobretodo aquellas donde son habitacionales, por ejemplo las alcaldías de la periferia.\n",
    "#En alcaldías cuya actividad económica es alta prevalecen delitos como fraude o robo tal es el caso de\n",
    "# Benito Juárez, Cuauhtemoc y Miguel Hidalgo. \n",
    "\n",
    "col_d= df_cdmx.groupby([\"alcaldia_hechos\",\"delito\"]).agg({'aux':sum})\n",
    "g = col_d[\"aux\"].groupby('alcaldia_hechos', group_keys=False)\n",
    "p_d = g.apply(lambda x: x.sort_values(ascending=False).head(3))\n",
    "p_d"
   ]
  },
  {
   "cell_type": "code",
   "execution_count": null,
   "metadata": {},
   "outputs": [],
   "source": [
    "#6.\tDiseña un indicador que mida el nivel de “inseguridad”. Genéralo al nivel de desagregación que te parezca más adecuado \n",
    "#(ej. manzana, calle, AGEB, etc.). Analiza los resultados ¿Encontraste algún patrón interesante? ¿Qué decisiones se podrían \n",
    "#tomar con el indicador?"
   ]
  },
  {
   "cell_type": "code",
   "execution_count": null,
   "metadata": {},
   "outputs": [],
   "source": [
    "#El indicador que me parece que podría dar una panorama focalizado de la inseguridad en la Ciudad de México es el número de\n",
    "#delitos por colonia. Con esta información el gobierno de la Ciudad de México podría incrementar la seguridad dn la zona, \n",
    "#y establecer sistemas de vigilancia para procurar el bienestar de la población. \n",
    "#Y la población podría tomar precauciones cuando va a zonas como la colonia centro.\n",
    "#Como se observa en nuestro indicador las colonias tradicionalmente con más delitos son la zona Centro,la Doctores, la Colonia \n",
    "#del Valle, la Roma y la Narvarte, colonias que concentran actividad económica importante.\n",
    "# Mientras que colonias como la UNAM donde permanente hay vigilancia y predominan los estudiantes a penas se sucitó un delito,\n",
    "# O en colonias con un alto nivel económico \n"
   ]
  },
  {
   "cell_type": "code",
   "execution_count": 187,
   "metadata": {},
   "outputs": [
    {
     "data": {
      "text/html": [
       "<div>\n",
       "<style scoped>\n",
       "    .dataframe tbody tr th:only-of-type {\n",
       "        vertical-align: middle;\n",
       "    }\n",
       "\n",
       "    .dataframe tbody tr th {\n",
       "        vertical-align: top;\n",
       "    }\n",
       "\n",
       "    .dataframe thead th {\n",
       "        text-align: right;\n",
       "    }\n",
       "</style>\n",
       "<table border=\"1\" class=\"dataframe\">\n",
       "  <thead>\n",
       "    <tr style=\"text-align: right;\">\n",
       "      <th></th>\n",
       "      <th></th>\n",
       "      <th>aux</th>\n",
       "    </tr>\n",
       "    <tr>\n",
       "      <th>alcaldia_hechos</th>\n",
       "      <th>colonia_hechos</th>\n",
       "      <th></th>\n",
       "    </tr>\n",
       "  </thead>\n",
       "  <tbody>\n",
       "    <tr>\n",
       "      <th rowspan=\"2\" valign=\"top\">CUAUHTEMOC</th>\n",
       "      <th>CENTRO</th>\n",
       "      <td>40788</td>\n",
       "    </tr>\n",
       "    <tr>\n",
       "      <th>DOCTORES</th>\n",
       "      <td>24157</td>\n",
       "    </tr>\n",
       "    <tr>\n",
       "      <th>BENITO JUAREZ</th>\n",
       "      <th>DEL VALLE CENTRO</th>\n",
       "      <td>18053</td>\n",
       "    </tr>\n",
       "    <tr>\n",
       "      <th>CUAUHTEMOC</th>\n",
       "      <th>ROMA NORTE</th>\n",
       "      <td>15012</td>\n",
       "    </tr>\n",
       "    <tr>\n",
       "      <th>BENITO JUAREZ</th>\n",
       "      <th>NARVARTE</th>\n",
       "      <td>13108</td>\n",
       "    </tr>\n",
       "  </tbody>\n",
       "</table>\n",
       "</div>"
      ],
      "text/plain": [
       "                                    aux\n",
       "alcaldia_hechos colonia_hechos         \n",
       "CUAUHTEMOC      CENTRO            40788\n",
       "                DOCTORES          24157\n",
       "BENITO JUAREZ   DEL VALLE CENTRO  18053\n",
       "CUAUHTEMOC      ROMA NORTE        15012\n",
       "BENITO JUAREZ   NARVARTE          13108"
      ]
     },
     "execution_count": 187,
     "metadata": {},
     "output_type": "execute_result"
    }
   ],
   "source": [
    "colonias = df_cdmx.groupby([\"alcaldia_hechos\",\"colonia_hechos\"]).agg({'aux':sum})\n",
    "colonias.sort_values(by='aux', ascending=False)[:5]\n"
   ]
  },
  {
   "cell_type": "code",
   "execution_count": 189,
   "metadata": {},
   "outputs": [
    {
     "data": {
      "text/html": [
       "<div>\n",
       "<style scoped>\n",
       "    .dataframe tbody tr th:only-of-type {\n",
       "        vertical-align: middle;\n",
       "    }\n",
       "\n",
       "    .dataframe tbody tr th {\n",
       "        vertical-align: top;\n",
       "    }\n",
       "\n",
       "    .dataframe thead th {\n",
       "        text-align: right;\n",
       "    }\n",
       "</style>\n",
       "<table border=\"1\" class=\"dataframe\">\n",
       "  <thead>\n",
       "    <tr style=\"text-align: right;\">\n",
       "      <th></th>\n",
       "      <th></th>\n",
       "      <th>aux</th>\n",
       "    </tr>\n",
       "    <tr>\n",
       "      <th>alcaldia_hechos</th>\n",
       "      <th>colonia_hechos</th>\n",
       "      <th></th>\n",
       "    </tr>\n",
       "  </thead>\n",
       "  <tbody>\n",
       "    <tr>\n",
       "      <th rowspan=\"2\" valign=\"top\">GUSTAVO A MADERO</th>\n",
       "      <th>VALLE GÓMEZ</th>\n",
       "      <td>1</td>\n",
       "    </tr>\n",
       "    <tr>\n",
       "      <th>AMPLIACIÓN SIMÓN BOLÍVAR</th>\n",
       "      <td>1</td>\n",
       "    </tr>\n",
       "    <tr>\n",
       "      <th rowspan=\"2\" valign=\"top\">XOCHIMILCO</th>\n",
       "      <th>LOMAS ESTRELLA 2A SECCION</th>\n",
       "      <td>1</td>\n",
       "    </tr>\n",
       "    <tr>\n",
       "      <th>LOS CIPRESES</th>\n",
       "      <td>1</td>\n",
       "    </tr>\n",
       "    <tr>\n",
       "      <th>ALVARO OBREGON</th>\n",
       "      <th>UNIVERSIDAD NACIONAL AUTÓNOMA DE MÉXICO</th>\n",
       "      <td>1</td>\n",
       "    </tr>\n",
       "    <tr>\n",
       "      <th>IZTAPALAPA</th>\n",
       "      <th>SAN FRANCISCO CULHUACAN</th>\n",
       "      <td>1</td>\n",
       "    </tr>\n",
       "    <tr>\n",
       "      <th>ALVARO OBREGON</th>\n",
       "      <th>VIVEROS DE COYOACÁN</th>\n",
       "      <td>1</td>\n",
       "    </tr>\n",
       "    <tr>\n",
       "      <th>IZTAPALAPA</th>\n",
       "      <th>PRADO CHURUBUSCO</th>\n",
       "      <td>1</td>\n",
       "    </tr>\n",
       "    <tr>\n",
       "      <th>GUSTAVO A MADERO</th>\n",
       "      <th>DOCTORES</th>\n",
       "      <td>1</td>\n",
       "    </tr>\n",
       "    <tr>\n",
       "      <th>VENUSTIANO CARRANZA</th>\n",
       "      <th>CUCHILLA AGRÍCOLA ORIENTAL</th>\n",
       "      <td>1</td>\n",
       "    </tr>\n",
       "  </tbody>\n",
       "</table>\n",
       "</div>"
      ],
      "text/plain": [
       "                                                             aux\n",
       "alcaldia_hechos     colonia_hechos                              \n",
       "GUSTAVO A MADERO    VALLE GÓMEZ                                1\n",
       "                    AMPLIACIÓN SIMÓN BOLÍVAR                   1\n",
       "XOCHIMILCO          LOMAS ESTRELLA 2A SECCION                  1\n",
       "                    LOS CIPRESES                               1\n",
       "ALVARO OBREGON      UNIVERSIDAD NACIONAL AUTÓNOMA DE MÉXICO    1\n",
       "IZTAPALAPA          SAN FRANCISCO CULHUACAN                    1\n",
       "ALVARO OBREGON      VIVEROS DE COYOACÁN                        1\n",
       "IZTAPALAPA          PRADO CHURUBUSCO                           1\n",
       "GUSTAVO A MADERO    DOCTORES                                   1\n",
       "VENUSTIANO CARRANZA CUCHILLA AGRÍCOLA ORIENTAL                 1"
      ]
     },
     "execution_count": 189,
     "metadata": {},
     "output_type": "execute_result"
    }
   ],
   "source": [
    "colonias.sort_values(by='aux', ascending=True)[:10]"
   ]
  },
  {
   "cell_type": "code",
   "execution_count": null,
   "metadata": {},
   "outputs": [],
   "source": [
    "# Al contar con las coordenadas es posible construir mapa interactivo en el se podría observar número de delitos, por año, tipo\n",
    "# de delitos y colorearlo de acuerdo a estas variables, por restricciones de tiempo se emite este indicador."
   ]
  }
 ],
 "metadata": {
  "kernelspec": {
   "display_name": "Python 3",
   "language": "python",
   "name": "python3"
  },
  "language_info": {
   "codemirror_mode": {
    "name": "ipython",
    "version": 3
   },
   "file_extension": ".py",
   "mimetype": "text/x-python",
   "name": "python",
   "nbconvert_exporter": "python",
   "pygments_lexer": "ipython3",
   "version": "3.8.3"
  }
 },
 "nbformat": 4,
 "nbformat_minor": 4
}
